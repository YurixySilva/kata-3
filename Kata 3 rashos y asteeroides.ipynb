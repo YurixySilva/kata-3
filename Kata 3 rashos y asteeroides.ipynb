{
 "cells": [
  {
   "cell_type": "markdown",
   "metadata": {},
   "source": [
    "# Asteroide"
   ]
  },
  {
   "cell_type": "code",
   "execution_count": 6,
   "metadata": {},
   "outputs": [
    {
     "name": "stdout",
     "output_type": "stream",
     "text": [
      "¡A D V E R T E N C I A!\n"
     ]
    }
   ],
   "source": [
    "vel_adv=25 #km/h\n",
    "vel_ast=49 #km/h\n",
    "if vel_adv<vel_ast:\n",
    "    print(\"¡A D V E R T E N C I A!\")\n",
    "else:\n",
    "    print(\"no hay peligro\")"
   ]
  },
  {
   "cell_type": "markdown",
   "metadata": {},
   "source": [
    "# Asteroide en la tierra"
   ]
  },
  {
   "cell_type": "code",
   "execution_count": 8,
   "metadata": {},
   "outputs": [
    {
     "name": "stdout",
     "output_type": "stream",
     "text": [
      "No emitir rayo\n"
     ]
    }
   ],
   "source": [
    "asteroide_en_tierra=19 #km/h\n",
    "rayo=20 #km/h\n",
    "if asteroide_en_tierra>=rayo:\n",
    "    print(\"Emite rayo de luzzzzzz\")\n",
    "elif asteroide_en_tierra==rayo:\n",
    "    print( \"Rayo de luzzzzzz\")\n",
    "else:\n",
    "    print(\"No emitir rayo\")\n",
    "\n",
    "\n",
    "\n"
   ]
  },
  {
   "cell_type": "markdown",
   "metadata": {},
   "source": [
    "# Operadores\n",
    "and y or"
   ]
  },
  {
   "cell_type": "code",
   "execution_count": 11,
   "metadata": {},
   "outputs": [
    {
     "name": "stdout",
     "output_type": "stream",
     "text": [
      "¡C U I D A D O! Un a s t e r o i d e  s e  a c e r c a\n",
      "¡UN ASTEROIDE NOS ATACA CON UN RASHO LASER!\n"
     ]
    }
   ],
   "source": [
    "vel_ast=27 #km/h\n",
    "tamaño= 26 #km/h\n",
    "vel_adv=25 #km/h\n",
    "\n",
    "if tamaño>=25 or tamaño<=1000:\n",
    "    print(\"¡C U I D A D O! Un a s t e r o i d e  s e  a c e r c a\")\n",
    "else:\n",
    "    print(\"No hay cuidado oiga\")\n",
    "if vel_ast> vel_adv and tamaño>25:\n",
    "    print(\"¡UN ASTEROIDE NOS ATACA CON UN RASHO LASER!\")\n",
    "elif vel_ast<vel_adv and tamaño>25:\n",
    "    print(\"No hay rasho pero corre!!\")\n",
    "else:\n",
    "    print(\"no huele a peligro\")"
   ]
  }
 ],
 "metadata": {
  "interpreter": {
   "hash": "cf960eb46d23ddff2d972984d3ba9e94ed12ea2863506cd2d61fa5eee592ec1f"
  },
  "kernelspec": {
   "display_name": "Python 3.10.2 64-bit",
   "language": "python",
   "name": "python3"
  },
  "language_info": {
   "codemirror_mode": {
    "name": "ipython",
    "version": 3
   },
   "file_extension": ".py",
   "mimetype": "text/x-python",
   "name": "python",
   "nbconvert_exporter": "python",
   "pygments_lexer": "ipython3",
   "version": "3.10.2"
  },
  "orig_nbformat": 4
 },
 "nbformat": 4,
 "nbformat_minor": 2
}
